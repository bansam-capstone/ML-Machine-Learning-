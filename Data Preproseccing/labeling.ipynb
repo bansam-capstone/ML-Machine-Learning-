{
 "cells": [
  {
   "cell_type": "code",
   "execution_count": 49,
   "metadata": {},
   "outputs": [],
   "source": [
    "import pandas as pd\n",
    "import numpy as np"
   ]
  },
  {
   "cell_type": "code",
   "execution_count": 50,
   "metadata": {},
   "outputs": [],
   "source": [
    "df_rain = pd.read_csv('csv/new_data_rain.csv')\n",
    "df_not_rain = pd.read_csv('csv/new_data_not_rain.csv')"
   ]
  },
  {
   "cell_type": "code",
   "execution_count": 51,
   "metadata": {},
   "outputs": [],
   "source": [
    "df_rain['label'] = np.where((df_rain['rain'] >= 0.847) & (df_rain['rain'] < 1.2), 'waspada',np.where(df_rain['rain'] < 0.847, 'aman', 'bahaya'))\n",
    "df_not_rain['label'] = 'aman'"
   ]
  },
  {
   "cell_type": "code",
   "execution_count": 52,
   "metadata": {},
   "outputs": [],
   "source": [
    "df_combined = pd.concat([df_not_rain, df_rain], ignore_index=True)\n",
    "\n",
    "df_sorted = df_combined.sort_values(by='timestamp', ascending=True)\n",
    "\n",
    "df_sorted.to_csv(\"csv/new_combined_data_labeled_newTH.csv\",index=False)"
   ]
  }
 ],
 "metadata": {
  "kernelspec": {
   "display_name": "BangkitProject",
   "language": "python",
   "name": "python3"
  },
  "language_info": {
   "codemirror_mode": {
    "name": "ipython",
    "version": 3
   },
   "file_extension": ".py",
   "mimetype": "text/x-python",
   "name": "python",
   "nbconvert_exporter": "python",
   "pygments_lexer": "ipython3",
   "version": "3.10.11"
  }
 },
 "nbformat": 4,
 "nbformat_minor": 2
}
